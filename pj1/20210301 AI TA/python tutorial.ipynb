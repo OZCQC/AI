{
 "cells": [
  {
   "cell_type": "markdown",
   "metadata": {},
   "source": [
    "# Python Tutorial for AI class"
   ]
  },
  {
   "cell_type": "markdown",
   "metadata": {},
   "source": [
    "## 1. Introduction"
   ]
  },
  {
   "cell_type": "markdown",
   "metadata": {},
   "source": [
    "## 2. Basic Operations\n",
    "### 2.1 I/O"
   ]
  },
  {
   "cell_type": "code",
   "execution_count": 1,
   "metadata": {},
   "outputs": [
    {
     "name": "stdout",
     "output_type": "stream",
     "text": [
      "hello world!\n"
     ]
    }
   ],
   "source": [
    "# print: show items on the screen/shell/interface\n",
    "# say hello to this world\n",
    "print('hello world!')"
   ]
  },
  {
   "cell_type": "code",
   "execution_count": 2,
   "metadata": {},
   "outputs": [
    {
     "name": "stdout",
     "output_type": "stream",
     "text": [
      "input your name:Lei Chen\n",
      "Name: Lei Chen\n"
     ]
    }
   ],
   "source": [
    "# input: read one line from standard input returns it as a string\n",
    "\n",
    "x = input(\"input your name:\")\n",
    "print(\"Name:\", x)"
   ]
  },
  {
   "cell_type": "markdown",
   "metadata": {},
   "source": [
    "### 2.2 Operators"
   ]
  },
  {
   "cell_type": "code",
   "execution_count": 3,
   "metadata": {},
   "outputs": [
    {
     "name": "stdout",
     "output_type": "stream",
     "text": [
      "a + b = 13\n",
      "a - b = 7\n",
      "a * b = 30\n",
      "a / b = 3.3333333333333335\n",
      "a % b = 1\n",
      "a // b = 3\n",
      "\n",
      "a > b : True\n",
      "a < b : False\n",
      "a = b : False\n",
      "a ≠ b : True\n",
      "\n",
      "a=10 and b=3 True\n",
      "a=10 and b=5 False\n",
      "a=5 and b=5 False\n",
      "a=10 or b=3 True\n",
      "a=10 or b=5 True\n",
      "a=5 or b=5 False\n",
      "\n",
      "old a: 10\n",
      "after adding one, new a: 11\n",
      "\n",
      "a is b False\n"
     ]
    }
   ],
   "source": [
    "a = 10\n",
    "b = 3\n",
    "\n",
    "# Arithmetic operators\n",
    "print(\"a + b =\", a+b)\n",
    "print(\"a - b =\", a-b)\n",
    "print(\"a * b =\", a*b)\n",
    "print(\"a / b =\", a/b)\n",
    "print(\"a % b =\", a%b)\n",
    "print(\"a // b =\", a//b)\n",
    "print()\n",
    "\n",
    "\n",
    "# Comparison operators\n",
    "print(\"a > b :\", a>b)\n",
    "print(\"a < b :\", a<b)\n",
    "print(\"a = b :\", a==b)\n",
    "print(\"a ≠ b :\", a!=b)\n",
    "print()\n",
    "\n",
    "# Logical operators\n",
    "print(\"a=10 and b=3\", a==10 and b==3)\n",
    "print(\"a=10 and b=5\", a==10 and b==5)\n",
    "print(\"a=5 and b=5\", a==5 and b==5)\n",
    "print(\"a=10 or b=3\", a==10 or b==3)\n",
    "print(\"a=10 or b=5\", a==10 or b==5)\n",
    "print(\"a=5 or b=5\", a==5 or b==5)\n",
    "print()\n",
    "\n",
    "# Assignment operators\n",
    "print(\"old a:\", a)\n",
    "a += 1\n",
    "print(\"after adding one, new a:\", a)\n",
    "print()\n",
    "\n",
    "# Identity operators\n",
    "print(\"a is b\", a is b)"
   ]
  },
  {
   "cell_type": "markdown",
   "metadata": {},
   "source": [
    "### 2.3 Decision Making"
   ]
  },
  {
   "cell_type": "code",
   "execution_count": 4,
   "metadata": {},
   "outputs": [
    {
     "name": "stdout",
     "output_type": "stream",
     "text": [
      "a is larger than b\n",
      "\n",
      "a is larger than or equal to b\n",
      "\n",
      "a is larger than b and exactly divisible by b\n",
      "\n",
      "a is larger than b\n"
     ]
    }
   ],
   "source": [
    "a = 9\n",
    "b = 3\n",
    "\n",
    "# single if\n",
    "if a>b:\n",
    "    print(\"a is larger than b\")\n",
    "print()\n",
    "    \n",
    "# if ... else\n",
    "if a<b:\n",
    "    print(\"a is smaller than b\")\n",
    "else:\n",
    "    print(\"a is larger than or equal to b\")\n",
    "print()\n",
    "    \n",
    "# nested if\n",
    "if a>b:\n",
    "    if a%b == 0:\n",
    "        print(\"a is larger than b and exactly divisible by b\")\n",
    "print()\n",
    "        \n",
    "# if ... elif ... else\n",
    "if a>b:\n",
    "    print(\"a is larger than b\")\n",
    "elif a == b:\n",
    "    print(\"a is equal to b\")\n",
    "else:\n",
    "    print(\"a is smaller than b\")"
   ]
  },
  {
   "cell_type": "markdown",
   "metadata": {},
   "source": [
    "### 2.4 Loops"
   ]
  },
  {
   "cell_type": "code",
   "execution_count": 5,
   "metadata": {},
   "outputs": [
    {
     "name": "stdout",
     "output_type": "stream",
     "text": [
      "0 1 2 3 4 5 6 7 8 9 10 \n",
      "0 1 2 3 4 5 6 7 8 9 "
     ]
    }
   ],
   "source": [
    "# while loops\n",
    "a = 0\n",
    "while a<=10:\n",
    "    print(a, end=\" \")\n",
    "    a += 1\n",
    "print()    \n",
    "\n",
    "# for loops\n",
    "for i in range(10):\n",
    "    print(i, end=\" \")"
   ]
  },
  {
   "cell_type": "markdown",
   "metadata": {},
   "source": [
    "## 3. Data Types\n",
    "### 3.1 Numbers"
   ]
  },
  {
   "cell_type": "code",
   "execution_count": 6,
   "metadata": {},
   "outputs": [
    {
     "name": "stdout",
     "output_type": "stream",
     "text": [
      "1 2.8 1j\n"
     ]
    }
   ],
   "source": [
    "\"\"\"\n",
    "define some numbers and add them!\n",
    "\"\"\"\n",
    "x = 1   # int\n",
    "y = 2.8 # float\n",
    "z = 1j  # complex\n",
    "print(x, y, z)"
   ]
  },
  {
   "cell_type": "code",
   "execution_count": 7,
   "metadata": {},
   "outputs": [
    {
     "name": "stdout",
     "output_type": "stream",
     "text": [
      "x + y =  3.8 \n",
      "x + z =  (1+1j)\n"
     ]
    }
   ],
   "source": [
    "print('x + y = ',x+y, '\\nx + z = ',x+z)"
   ]
  },
  {
   "cell_type": "markdown",
   "metadata": {},
   "source": [
    "### 3.2 Strings"
   ]
  },
  {
   "cell_type": "code",
   "execution_count": 8,
   "metadata": {},
   "outputs": [
    {
     "name": "stdout",
     "output_type": "stream",
     "text": [
      "the 3th character of a: l\n",
      "h e l l o \n"
     ]
    }
   ],
   "source": [
    "# define a string\n",
    "a = \"hello\"                # string a\n",
    "\n",
    "# access by index\n",
    "print(\"the 3th character of a:\", a[2])\n",
    "\n",
    "# iteration\n",
    "for character in a:\n",
    "    print(character, end=\" \")\n",
    "print()"
   ]
  },
  {
   "cell_type": "code",
   "execution_count": 9,
   "metadata": {},
   "outputs": [
    {
     "ename": "TypeError",
     "evalue": "'str' object does not support item assignment",
     "output_type": "error",
     "traceback": [
      "\u001b[1;31m---------------------------------------------------------------------------\u001b[0m",
      "\u001b[1;31mTypeError\u001b[0m                                 Traceback (most recent call last)",
      "\u001b[1;32m<ipython-input-9-04ca466b810b>\u001b[0m in \u001b[0;36m<module>\u001b[1;34m\u001b[0m\n\u001b[0;32m      1\u001b[0m \u001b[1;31m# immutable\u001b[0m\u001b[1;33m\u001b[0m\u001b[1;33m\u001b[0m\u001b[1;33m\u001b[0m\u001b[0m\n\u001b[0;32m      2\u001b[0m \u001b[0ma\u001b[0m \u001b[1;33m=\u001b[0m \u001b[1;34m\"hello\"\u001b[0m\u001b[1;33m\u001b[0m\u001b[1;33m\u001b[0m\u001b[0m\n\u001b[1;32m----> 3\u001b[1;33m \u001b[0ma\u001b[0m\u001b[1;33m[\u001b[0m\u001b[1;36m0\u001b[0m\u001b[1;33m]\u001b[0m \u001b[1;33m=\u001b[0m \u001b[1;34m\"y\"\u001b[0m\u001b[1;33m\u001b[0m\u001b[1;33m\u001b[0m\u001b[0m\n\u001b[0m",
      "\u001b[1;31mTypeError\u001b[0m: 'str' object does not support item assignment"
     ]
    }
   ],
   "source": [
    "# immutable\n",
    "a = \"hello\"\n",
    "a[0] = \"y\""
   ]
  },
  {
   "cell_type": "code",
   "execution_count": 10,
   "metadata": {},
   "outputs": [
    {
     "name": "stdout",
     "output_type": "stream",
     "text": [
      "Hello Prof. Wei\n",
      "Hello Prof. Wei\n",
      "\n",
      "upper a: HELLO\n",
      "lower a: hello\n",
      "capitalize a: Hello\n",
      "swapcase a: hELLO\n",
      "\n",
      "1 <class 'str'> 1 <class 'int'>\n",
      "1.2 <class 'str'> 1.2 <class 'float'>\n",
      "[1, 2, 3] <class 'str'> [1, 2, 3] <class 'list'>\n",
      "{1:2} <class 'str'> {1: 2} <class 'dict'>\n",
      "<class 'str'>\n",
      "\n",
      "1\n",
      "1\n",
      "2\n",
      "\n",
      "2.300 \n",
      "python, 2019\n",
      "\n",
      "\\%\n",
      "hello \t world\n",
      "hello \n",
      "world\n"
     ]
    }
   ],
   "source": [
    "# concatenation\n",
    "a = \"Hello\"\n",
    "b = \"Prof. Wei\"\n",
    "print(a+\" \"+b)\n",
    "\n",
    "str_list = [\"Hello\", \"Prof. Wei\"]\n",
    "print(\" \".join(str_list))\n",
    "print()\n",
    "\n",
    "# conversion\n",
    "print(\"upper a:\", a.upper())\n",
    "print(\"lower a:\", a.lower())\n",
    "print(\"capitalize a:\", a.lower().capitalize())\n",
    "print(\"swapcase a:\", a.swapcase())\n",
    "print()\n",
    "\n",
    "c = \"1\"\n",
    "d = \"1.2\"\n",
    "e = \"[1, 2, 3]\"\n",
    "f = \"{1:2}\"\n",
    "print(c, type(c), int(c), type(int(c)))\n",
    "print(d, type(d), float(d), type(float(d)))\n",
    "print(e, type(e), eval(e), type(eval(e)))\n",
    "print(f, type(f), eval(f), type(eval(f)))\n",
    "print(type(str(eval(f))))\n",
    "print()\n",
    "\n",
    "# others\n",
    "print(a.find(\"e\"))\n",
    "print(a.index(\"e\"))\n",
    "print(a.count(\"l\"))\n",
    "print()\n",
    "\n",
    "# formatting\n",
    "print(\"%-6.3f\" % 2.3)\n",
    "print(\"{name}, {year}\".format(year=2019,name=\"python\"))\n",
    "print()\n",
    "\n",
    "# escape sequence\n",
    "print(\"\\%\")\n",
    "print(\"hello \\t world\")\n",
    "print(\"hello \\nworld\")"
   ]
  },
  {
   "cell_type": "markdown",
   "metadata": {},
   "source": [
    "### 3.3 list\n",
    "\n",
    "- List Methods"
   ]
  },
  {
   "cell_type": "code",
   "execution_count": 11,
   "metadata": {},
   "outputs": [
    {
     "name": "stdout",
     "output_type": "stream",
     "text": [
      "append an element: [1, 2, 3, 4]\n",
      "extend a list: [1, 2, 3, 4, 4]\n",
      "insert at certain index: [1, 10, 2, 3, 4, 4]\n",
      "remove certain value: [1, 2, 3, 4, 4]\n",
      "pop by index: [1, 2, 3, 4]\n",
      "reverse the list: [4, 3, 2, 1]\n",
      "clear all the elements: []\n"
     ]
    }
   ],
   "source": [
    "a = [1,2,3]\n",
    "\n",
    "a.append(4)\n",
    "print(\"append an element:\", a)\n",
    "a.extend([4])\n",
    "print(\"extend a list:\",a)\n",
    "a.insert(1, 10)\n",
    "print(\"insert at certain index:\",a)\n",
    "a.remove(10)\n",
    "print(\"remove certain value:\",a)\n",
    "a.pop(-1)\n",
    "print(\"pop by index:\",a)\n",
    "a.reverse()\n",
    "print(\"reverse the list:\",a)\n",
    "a.clear()\n",
    "print(\"clear all the elements:\",a)"
   ]
  },
  {
   "cell_type": "markdown",
   "metadata": {},
   "source": [
    "- List Comprehension"
   ]
  },
  {
   "cell_type": "code",
   "execution_count": 12,
   "metadata": {},
   "outputs": [
    {
     "name": "stdout",
     "output_type": "stream",
     "text": [
      "[1, 2, 4, 8, 16, 32, 64, 128, 256, 512]\n"
     ]
    }
   ],
   "source": [
    "pow2 = [2 ** x for x in range(10)]\n",
    "print(pow2)"
   ]
  },
  {
   "cell_type": "markdown",
   "metadata": {},
   "source": [
    "- Deep Copy and Shallow Copy"
   ]
  },
  {
   "cell_type": "code",
   "execution_count": 13,
   "metadata": {},
   "outputs": [
    {
     "name": "stdout",
     "output_type": "stream",
     "text": [
      "[[1, 2, 3], [5, 6, 7]]\n"
     ]
    }
   ],
   "source": [
    "list_1 = [1, 2, 3]\n",
    "list_2 = [5, 6, 7]\n",
    "list_3 = [list_1, list_2]   # a list whose elements are other lists\n",
    "print(list_3)"
   ]
  },
  {
   "cell_type": "code",
   "execution_count": 14,
   "metadata": {
    "scrolled": false
   },
   "outputs": [
    {
     "name": "stdout",
     "output_type": "stream",
     "text": [
      "3\n"
     ]
    }
   ],
   "source": [
    "print(list_3[0][2])"
   ]
  },
  {
   "cell_type": "code",
   "execution_count": 15,
   "metadata": {},
   "outputs": [
    {
     "name": "stdout",
     "output_type": "stream",
     "text": [
      "before: 1  after: 2\n"
     ]
    }
   ],
   "source": [
    "# Copying list by reference (just like pointers in c/c++)\n",
    "before = list_3[0][0]\n",
    "list_1[0] = 2\n",
    "after = list_3[0][0]\n",
    "print('before:',before,' after:',after)"
   ]
  },
  {
   "cell_type": "code",
   "execution_count": 16,
   "metadata": {},
   "outputs": [
    {
     "data": {
      "text/plain": [
       "[[2, 2, 3], [5, 6, 7]]"
      ]
     },
     "execution_count": 16,
     "metadata": {},
     "output_type": "execute_result"
    }
   ],
   "source": [
    "# what happened to list_3 ???\n",
    "list_3"
   ]
  },
  {
   "cell_type": "code",
   "execution_count": 17,
   "metadata": {},
   "outputs": [
    {
     "name": "stdout",
     "output_type": "stream",
     "text": [
      "[2, 2, 3] [2, 2, 3] [2, 2, 3]\n"
     ]
    }
   ],
   "source": [
    "# copy and deep copy\n",
    "import copy\n",
    "\n",
    "copy_list1 = list_1\n",
    "copy_list2 = copy.deepcopy(list_1)  # deep copied one with copy library\n",
    "copy_list3 = [ele for ele in list_1] # deep copied by hand\n",
    "print(copy_list1, copy_list2, copy_list3)  # the same for now"
   ]
  },
  {
   "cell_type": "code",
   "execution_count": 18,
   "metadata": {},
   "outputs": [
    {
     "name": "stdout",
     "output_type": "stream",
     "text": [
      "[5, 2, 3] [2, 2, 3] [2, 2, 3]\n"
     ]
    }
   ],
   "source": [
    "list_1[0] = 5\n",
    "print(copy_list1, copy_list2, copy_list3)"
   ]
  },
  {
   "cell_type": "markdown",
   "metadata": {},
   "source": [
    "#### some tricks"
   ]
  },
  {
   "cell_type": "code",
   "execution_count": 19,
   "metadata": {},
   "outputs": [
    {
     "name": "stdout",
     "output_type": "stream",
     "text": [
      "[1, 3, 5]\n"
     ]
    }
   ],
   "source": [
    "# slice operation\n",
    "my_list = [1,2,3,4,5,6]\n",
    "print(my_list[::2]) #选取奇数位"
   ]
  },
  {
   "cell_type": "code",
   "execution_count": 20,
   "metadata": {},
   "outputs": [
    {
     "name": "stdout",
     "output_type": "stream",
     "text": [
      "[6, 5, 4, 3, 2, 1]\n"
     ]
    }
   ],
   "source": [
    "print(my_list[::-1]) #逆序"
   ]
  },
  {
   "cell_type": "code",
   "execution_count": 21,
   "metadata": {},
   "outputs": [
    {
     "name": "stdout",
     "output_type": "stream",
     "text": [
      "[1, 2, 3, 4]\n"
     ]
    }
   ],
   "source": [
    "print(my_list[:-2]) # 去掉末位两个"
   ]
  },
  {
   "cell_type": "markdown",
   "metadata": {},
   "source": [
    "### 3.4 Tuple"
   ]
  },
  {
   "cell_type": "code",
   "execution_count": 22,
   "metadata": {},
   "outputs": [],
   "source": [
    "# an unchangable list\n",
    "list_new = [1, 2, 3]\n",
    "tuple_new = (1, 2, 3)"
   ]
  },
  {
   "cell_type": "code",
   "execution_count": 23,
   "metadata": {},
   "outputs": [
    {
     "ename": "TypeError",
     "evalue": "'tuple' object does not support item assignment",
     "output_type": "error",
     "traceback": [
      "\u001b[1;31m---------------------------------------------------------------------------\u001b[0m",
      "\u001b[1;31mTypeError\u001b[0m                                 Traceback (most recent call last)",
      "\u001b[1;32m<ipython-input-23-6611fd2c4ffe>\u001b[0m in \u001b[0;36m<module>\u001b[1;34m\u001b[0m\n\u001b[0;32m      1\u001b[0m \u001b[1;31m## elements in tuple can not be reassigned\u001b[0m\u001b[1;33m\u001b[0m\u001b[1;33m\u001b[0m\u001b[1;33m\u001b[0m\u001b[0m\n\u001b[1;32m----> 2\u001b[1;33m \u001b[0mtuple_new\u001b[0m\u001b[1;33m[\u001b[0m\u001b[1;36m0\u001b[0m\u001b[1;33m]\u001b[0m \u001b[1;33m=\u001b[0m \u001b[1;36m2\u001b[0m\u001b[1;33m\u001b[0m\u001b[1;33m\u001b[0m\u001b[0m\n\u001b[0m",
      "\u001b[1;31mTypeError\u001b[0m: 'tuple' object does not support item assignment"
     ]
    }
   ],
   "source": [
    "## elements in tuple can not be reassigned\n",
    "tuple_new[0] = 2"
   ]
  },
  {
   "cell_type": "code",
   "execution_count": 24,
   "metadata": {},
   "outputs": [
    {
     "data": {
      "text/plain": [
       "[1, 2, 3]"
      ]
     },
     "execution_count": 24,
     "metadata": {},
     "output_type": "execute_result"
    }
   ],
   "source": [
    "# tuple ---> list\n",
    "list(tuple_new)"
   ]
  },
  {
   "cell_type": "code",
   "execution_count": 25,
   "metadata": {},
   "outputs": [
    {
     "data": {
      "text/plain": [
       "(1, 2, 3)"
      ]
     },
     "execution_count": 25,
     "metadata": {},
     "output_type": "execute_result"
    }
   ],
   "source": [
    "# list ---> tuple\n",
    "tuple(list_new)"
   ]
  },
  {
   "cell_type": "markdown",
   "metadata": {},
   "source": [
    "### 3.5 Set"
   ]
  },
  {
   "cell_type": "code",
   "execution_count": 26,
   "metadata": {},
   "outputs": [
    {
     "name": "stdout",
     "output_type": "stream",
     "text": [
      "{1, 2, 3, 4}\n"
     ]
    }
   ],
   "source": [
    "# define a set \n",
    "set1 = set([1,2,3,3,3,2,4])\n",
    "print(set1)"
   ]
  },
  {
   "cell_type": "code",
   "execution_count": 27,
   "metadata": {},
   "outputs": [],
   "source": [
    "set1.add(1) # add operation\n",
    "set1.remove(2) # remove operation"
   ]
  },
  {
   "cell_type": "code",
   "execution_count": 28,
   "metadata": {},
   "outputs": [
    {
     "data": {
      "text/plain": [
       "{1, 3, 4}"
      ]
     },
     "execution_count": 28,
     "metadata": {},
     "output_type": "execute_result"
    }
   ],
   "source": [
    "set1"
   ]
  },
  {
   "cell_type": "markdown",
   "metadata": {},
   "source": [
    "### 3.6 Dictionary"
   ]
  },
  {
   "cell_type": "code",
   "execution_count": 29,
   "metadata": {},
   "outputs": [
    {
     "name": "stdout",
     "output_type": "stream",
     "text": [
      "{'1': 1, 3: 5, (1, 2, 3): 6}\n"
     ]
    }
   ],
   "source": [
    "# define a dictionary\n",
    "# from a key to a value, key can be a number, string, even a tuple(but not a list)\n",
    "my_dict = dict() # my_dict = {}\n",
    "my_dict['1'] = 1\n",
    "my_dict[3] = 5\n",
    "# my_dict[[1,2,3]] = 3 (error here since list is not hashable !)\n",
    "my_dict[(1,2,3)] = 6\n",
    "print(my_dict)"
   ]
  },
  {
   "cell_type": "code",
   "execution_count": 30,
   "metadata": {},
   "outputs": [
    {
     "name": "stdout",
     "output_type": "stream",
     "text": [
      "{'1': 2, 3: 5, (1, 2, 3): 6}\n"
     ]
    }
   ],
   "source": [
    "# use a dictionary\n",
    "my_dict['1'] += 1\n",
    "print(my_dict)"
   ]
  },
  {
   "cell_type": "markdown",
   "metadata": {},
   "source": [
    "### 3.7 Boolean and None"
   ]
  },
  {
   "cell_type": "code",
   "execution_count": 31,
   "metadata": {},
   "outputs": [
    {
     "name": "stdout",
     "output_type": "stream",
     "text": [
      "False True True True True True\n"
     ]
    }
   ],
   "source": [
    "# number to boolean\n",
    "print(bool(0), bool(1), bool(2), bool(1j), bool(-1), bool(0.000001))"
   ]
  },
  {
   "cell_type": "code",
   "execution_count": 32,
   "metadata": {},
   "outputs": [
    {
     "name": "stdout",
     "output_type": "stream",
     "text": [
      "True False False True False True\n"
     ]
    }
   ],
   "source": [
    "# list/tuple to boolean\n",
    "print(bool([1]), bool([]), bool(()), bool((1,)), bool({}), bool(my_dict))"
   ]
  },
  {
   "cell_type": "code",
   "execution_count": 33,
   "metadata": {},
   "outputs": [
    {
     "name": "stdout",
     "output_type": "stream",
     "text": [
      "True False\n"
     ]
    }
   ],
   "source": [
    "# None is similar to null in other programming language\n",
    "temp = None\n",
    "print(temp is None, bool(temp))"
   ]
  },
  {
   "cell_type": "markdown",
   "metadata": {},
   "source": [
    "## 4. Functions"
   ]
  },
  {
   "cell_type": "code",
   "execution_count": 34,
   "metadata": {},
   "outputs": [
    {
     "name": "stdout",
     "output_type": "stream",
     "text": [
      "10\n",
      "8\n"
     ]
    }
   ],
   "source": [
    "# perimeter of a rectangular\n",
    "def rect_c(a, b):\n",
    "    return 2*(a + b)\n",
    "def rect_c_default(a, b = 1):\n",
    "    # same function but with a default parameter\n",
    "    return 2*(a + b)\n",
    "\n",
    "print(rect_c(3,2))\n",
    "print(rect_c_default(3))"
   ]
  },
  {
   "cell_type": "code",
   "execution_count": 35,
   "metadata": {},
   "outputs": [
    {
     "data": {
      "text/plain": [
       "3"
      ]
     },
     "execution_count": 35,
     "metadata": {},
     "output_type": "execute_result"
    }
   ],
   "source": [
    "# lambda function\n",
    "my_add = lambda x,y: x+y\n",
    "my_add(1,2)"
   ]
  },
  {
   "cell_type": "code",
   "execution_count": 36,
   "metadata": {},
   "outputs": [
    {
     "name": "stdout",
     "output_type": "stream",
     "text": [
      "[('Jack', 95), ('Luke', 97), ('Sarah', 100)]\n"
     ]
    }
   ],
   "source": [
    "# a small example: sort for a dictionary by its values\n",
    "grade = {'Jack':95, 'Sarah':100, 'Luke':97}\n",
    "grade_order = sorted(grade.items(), key=lambda x:x[1])\n",
    "print(grade_order)"
   ]
  },
  {
   "cell_type": "code",
   "execution_count": 37,
   "metadata": {},
   "outputs": [
    {
     "name": "stdout",
     "output_type": "stream",
     "text": [
      "24\n"
     ]
    }
   ],
   "source": [
    "# Recursive Functions\n",
    "def f(n):\n",
    "    if n < 1:\n",
    "        return 0\n",
    "    if n == 1:\n",
    "        return 1\n",
    "    else:\n",
    "        return n * f(n-1)\n",
    "print(f(4))"
   ]
  },
  {
   "cell_type": "markdown",
   "metadata": {},
   "source": [
    "## 5. Class"
   ]
  },
  {
   "cell_type": "code",
   "execution_count": 38,
   "metadata": {},
   "outputs": [
    {
     "name": "stdout",
     "output_type": "stream",
     "text": [
      "before bounce the direction: down\n",
      "after bounce the direction: up\n",
      "goal with my ball: 1\n"
     ]
    }
   ],
   "source": [
    "import random\n",
    "# define a class 'Ball'\n",
    "class Ball:\n",
    "    def __init__(self, c, s, d):\n",
    "        self.color = c\n",
    "        self.size = s\n",
    "        self.direction = d\n",
    "        \n",
    "    def bounce(self):\n",
    "        if self.direction == \"down\":\n",
    "            self.direction = \"up\"\n",
    "    \n",
    "    def goal(self):\n",
    "        return int(random.uniform(1,5))\n",
    "        \n",
    "my_ball = Ball(c = 'red', s = 1, d = 'down')\n",
    "print('before bounce the direction:', my_ball.direction)\n",
    "my_ball.bounce()\n",
    "print('after bounce the direction:', my_ball.direction)\n",
    "print('goal with my ball:', my_ball.goal())"
   ]
  },
  {
   "cell_type": "code",
   "execution_count": 39,
   "metadata": {},
   "outputs": [
    {
     "name": "stdout",
     "output_type": "stream",
     "text": [
      "the color of my basketball: red\n",
      "before bounce the direction: down\n",
      "after bounce the direction: up\n",
      "goal with my basketball: 2\n"
     ]
    }
   ],
   "source": [
    "class Basketball(Ball):\n",
    "    def __init__(self, s, d):\n",
    "        super().__init__(c = 'red', s = s, d = d)\n",
    "    def goal(self):\n",
    "        return 2\n",
    "my_basketball = Basketball(s = 3, d = 'down')\n",
    "print('the color of my basketball:', my_basketball.color)\n",
    "print('before bounce the direction:', my_basketball.direction)\n",
    "my_basketball.bounce()\n",
    "print('after bounce the direction:', my_basketball.direction)\n",
    "print('goal with my basketball:', my_basketball.goal())"
   ]
  }
 ],
 "metadata": {
  "kernelspec": {
   "display_name": "Python 3",
   "language": "python",
   "name": "python3"
  },
  "language_info": {
   "codemirror_mode": {
    "name": "ipython",
    "version": 3
   },
   "file_extension": ".py",
   "mimetype": "text/x-python",
   "name": "python",
   "nbconvert_exporter": "python",
   "pygments_lexer": "ipython3",
   "version": "3.7.3"
  }
 },
 "nbformat": 4,
 "nbformat_minor": 2
}
